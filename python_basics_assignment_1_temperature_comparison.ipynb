{
  "nbformat": 4,
  "nbformat_minor": 0,
  "metadata": {
    "colab": {
      "provenance": [],
      "authorship_tag": "ABX9TyOaCLbOKVqw6VImwgzZE0oC",
      "include_colab_link": true
    },
    "kernelspec": {
      "name": "python3",
      "display_name": "Python 3"
    },
    "language_info": {
      "name": "python"
    }
  },
  "cells": [
    {
      "cell_type": "markdown",
      "metadata": {
        "id": "view-in-github",
        "colab_type": "text"
      },
      "source": [
        "<a href=\"https://colab.research.google.com/github/hfarrukhfahim/python-basics-assignment./blob/main/python_basics_assignment_1_temperature_comparison.ipynb\" target=\"_parent\"><img src=\"https://colab.research.google.com/assets/colab-badge.svg\" alt=\"Open In Colab\"/></a>"
      ]
    },
    {
      "cell_type": "code",
      "execution_count": null,
      "metadata": {
        "id": "nZ5Rw_WzBUq6"
      },
      "outputs": [],
      "source": [
        "# Part 1: Temperature Comparison\n",
        "# Problem Statement:\n",
        "# Write a program that:\n",
        "# ● Takes input for the temperatures of two cities in Celsius.\n",
        "# ● Compares the temperatures using relational operators (>, <, ==, !=).\n",
        "# Prints a message like:\n",
        "# City A is hotter than City B."
      ]
    },
    {
      "cell_type": "code",
      "source": [
        "city_a_temp = float(input(\"Enter the temperature of City A in Celsius: \"))\n",
        "city_b_temp = float(input(\"Enter the temperature of City B in Celsius: \"))\n",
        "\n",
        "if city_a_temp > city_b_temp:\n",
        "    print(\"City A is hotter than City B.\")\n",
        "elif city_a_temp < city_b_temp:\n",
        "    print(\"City B is hotter than City A.\")\n",
        "else:\n",
        "    print(\"City A and City B have the same temperature.\")\n"
      ],
      "metadata": {
        "colab": {
          "base_uri": "https://localhost:8080/"
        },
        "id": "cklTwJCkD03g",
        "outputId": "3a6a34de-574c-41db-9843-cfb19d8b9e15"
      },
      "execution_count": null,
      "outputs": [
        {
          "output_type": "stream",
          "name": "stdout",
          "text": [
            "Enter the temperature of City A in Celsius: 15\n",
            "Enter the temperature of City B in Celsius: 12.5\n",
            "City A is hotter than City B.\n"
          ]
        }
      ]
    }
  ]
}