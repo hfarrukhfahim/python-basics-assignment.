{
  "nbformat": 4,
  "nbformat_minor": 0,
  "metadata": {
    "colab": {
      "provenance": [],
      "authorship_tag": "ABX9TyPF30988619e9VWENabdWzu",
      "include_colab_link": true
    },
    "kernelspec": {
      "name": "python3",
      "display_name": "Python 3"
    },
    "language_info": {
      "name": "python"
    }
  },
  "cells": [
    {
      "cell_type": "markdown",
      "metadata": {
        "id": "view-in-github",
        "colab_type": "text"
      },
      "source": [
        "<a href=\"https://colab.research.google.com/github/hfarrukhfahim/python-basics-assignment./blob/main/python_basics_assignment_5_rectangle_calculator.ipynb\" target=\"_parent\"><img src=\"https://colab.research.google.com/assets/colab-badge.svg\" alt=\"Open In Colab\"/></a>"
      ]
    },
    {
      "cell_type": "code",
      "execution_count": null,
      "metadata": {
        "id": "Xdhjhs34O0R_"
      },
      "outputs": [],
      "source": [
        "# Part 5: Rectangle Calculator\n",
        "# Problem Statement:\n",
        "# Write a program that calculates and displays the area and perimeter of a rectangle:\n",
        "# 1. Take the length and width of the rectangle as inputs.\n",
        "# 2. Calculate the area and perimeter using basic arithmetic operators.\n",
        "# Print the result in this format:\n",
        "# Length: [length]\n",
        "# Width: [width]\n",
        "# Area: [area]\n",
        "# Perimeter: [perimeter]"
      ]
    },
    {
      "cell_type": "code",
      "source": [
        "length = float(input(\"Enter the length of the rectangle: \"))\n",
        "width = float(input(\"Enter the width of the rectangle: \"))\n",
        "\n",
        "area = length * width\n",
        "perimeter = 2 * (length + width)\n",
        "\n",
        "print(f\"Length: {length}\")\n",
        "print(f\"Width: {width}\")\n",
        "print(f\"Area: {area}\")\n",
        "print(f\"Perimeter: {perimeter}\")"
      ],
      "metadata": {
        "colab": {
          "base_uri": "https://localhost:8080/"
        },
        "id": "l4Kw1JH2O1nY",
        "outputId": "a1971da0-2311-4c58-9ad7-3af4fe3df07f"
      },
      "execution_count": null,
      "outputs": [
        {
          "output_type": "stream",
          "name": "stdout",
          "text": [
            "Enter the length of the rectangle: 5\n",
            "Enter the width of the rectangle: 4\n",
            "Length: 5.0\n",
            "Width: 4.0\n",
            "Area: 20.0\n",
            "Perimeter: 18.0\n"
          ]
        }
      ]
    }
  ]
}