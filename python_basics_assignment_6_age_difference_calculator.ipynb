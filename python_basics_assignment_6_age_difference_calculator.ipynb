{
  "nbformat": 4,
  "nbformat_minor": 0,
  "metadata": {
    "colab": {
      "provenance": [],
      "authorship_tag": "ABX9TyP1xa0LCIXCoSPkbDm4AbNt",
      "include_colab_link": true
    },
    "kernelspec": {
      "name": "python3",
      "display_name": "Python 3"
    },
    "language_info": {
      "name": "python"
    }
  },
  "cells": [
    {
      "cell_type": "markdown",
      "metadata": {
        "id": "view-in-github",
        "colab_type": "text"
      },
      "source": [
        "<a href=\"https://colab.research.google.com/github/hfarrukhfahim/python-basics-assignment./blob/main/python_basics_assignment_6_age_difference_calculator.ipynb\" target=\"_parent\"><img src=\"https://colab.research.google.com/assets/colab-badge.svg\" alt=\"Open In Colab\"/></a>"
      ]
    },
    {
      "cell_type": "code",
      "execution_count": null,
      "metadata": {
        "id": "67castFLPR66"
      },
      "outputs": [],
      "source": [
        "# Part 6: Age Difference Calculator\n",
        "# Problem Statement:\n",
        "# Write a program that:\n",
        "# 1. Takes the ages of two people as input.\n",
        "# 2. Calculates the difference in their ages using subtraction.\n",
        "# Prints the result using string formatting:\n",
        "# The age difference between [Person1] and [Person2] is: [Difference] years."
      ]
    },
    {
      "cell_type": "code",
      "source": [
        "person1 = input(\"Enter the name of the first person: \")\n",
        "person2 = input(\"Enter the name of the second person: \")\n",
        "age1 = int(input(f\"Enter {person1}'s age: \"))\n",
        "age2 = int(input(f\"Enter {person2}'s age: \"))\n",
        "\n",
        "age_difference = abs(age1 - age2)\n",
        "\n",
        "print(f\"The age difference between {person1} and {person2} is: {age_difference} years.\")"
      ],
      "metadata": {
        "colab": {
          "base_uri": "https://localhost:8080/"
        },
        "id": "CIlyjPoOPXJ9",
        "outputId": "6ea2d9c1-8209-4938-c501-82af2da73329"
      },
      "execution_count": null,
      "outputs": [
        {
          "output_type": "stream",
          "name": "stdout",
          "text": [
            "Enter the name of the first person: A\n",
            "Enter the name of the second person: B\n",
            "Enter A's age: 7\n",
            "Enter B's age: 5\n",
            "The age difference between A and B is: 2 years.\n"
          ]
        }
      ]
    }
  ]
}