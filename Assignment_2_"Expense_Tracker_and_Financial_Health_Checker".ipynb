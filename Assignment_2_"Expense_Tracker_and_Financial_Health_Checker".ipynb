{
  "nbformat": 4,
  "nbformat_minor": 0,
  "metadata": {
    "colab": {
      "provenance": [],
      "authorship_tag": "ABX9TyPZ8SPyjyLRkEeKOptAYHkR",
      "include_colab_link": true
    },
    "kernelspec": {
      "name": "python3",
      "display_name": "Python 3"
    },
    "language_info": {
      "name": "python"
    }
  },
  "cells": [
    {
      "cell_type": "markdown",
      "metadata": {
        "id": "view-in-github",
        "colab_type": "text"
      },
      "source": [
        "<a href=\"https://colab.research.google.com/github/hfarrukhfahim/python-basics-assignment./blob/main/Assignment_2_%22Expense_Tracker_and_Financial_Health_Checker%22.ipynb\" target=\"_parent\"><img src=\"https://colab.research.google.com/assets/colab-badge.svg\" alt=\"Open In Colab\"/></a>"
      ]
    },
    {
      "cell_type": "code",
      "execution_count": null,
      "metadata": {
        "colab": {
          "base_uri": "https://localhost:8080/"
        },
        "id": "2-8h7DDHrUkr",
        "outputId": "1e27a394-013b-497c-e20a-b2fb28325af0"
      },
      "outputs": [
        {
          "output_type": "stream",
          "name": "stdout",
          "text": [
            "Enter your name: Farrukh\n",
            "Enter your profession: Engineer\n",
            "\n",
            "Welcome, Farrukh! Let's analyze your financial health as a Engineer.\n",
            "\n",
            "Enter your monthly income: 100000\n",
            "Enter your monthly expenses: 90000\n",
            "\n",
            "Total Savings: 10000.0\n",
            "Savings Percentage: 10.00%\n",
            "\n",
            "Good, Farrukh, but you could save a bit more.\n",
            "\n",
            "How much do you spend on Essentials? 25000\n",
            "How much do you spend on Wants? 50000\n",
            "How much do you save or invest? 0\n",
            "\n",
            "Expense Breakdown:\n",
            "Essentials: 25.00%\n",
            "Wants: 50.00%\n",
            "Savings/Investments: 0.00%\n",
            "\n",
            "What is your savings goal (in %)? 10\n",
            "\n",
            "Your savings percentage is 10.00%.\n",
            "Congratulations, Farrukh! You’ve achieved your savings goal.\n",
            "\n"
          ]
        }
      ],
      "source": [
        "\n",
        "# Expense Tracker and Financial Health Checker\n",
        "\n",
        "# User Profile Setup\n",
        "name = input(\"Enter your name: \")\n",
        "profession = input(\"Enter your profession: \")\n",
        "print(f\"\\nWelcome, {name}! Let's analyze your financial health as a {profession}.\\n\")\n",
        "\n",
        "# Income and Expense Management\n",
        "try:\n",
        "    income = float(input(\"Enter your monthly income: \"))\n",
        "    expenses = float(input(\"Enter your monthly expenses: \"))\n",
        "except ValueError:\n",
        "    print(\"Invalid input! Please enter numerical values for income and expenses.\")\n",
        "    exit()\n",
        "\n",
        "savings = income - expenses\n",
        "savings_percentage = (savings / income) * 100\n",
        "\n",
        "print(f\"\\nTotal Savings: {savings}\")\n",
        "print(f\"Savings Percentage: {savings_percentage:.2f}%\\n\")\n",
        "\n",
        "# Financial Health Check\n",
        "if savings_percentage >= 20:\n",
        "    print(f\"Great job, {name}! You have a strong savings habit.\\n\")\n",
        "elif 10 <= savings_percentage < 20:\n",
        "    print(f\"Good, {name}, but you could save a bit more.\\n\")\n",
        "else:\n",
        "    print(f\"Warning, {name}: Your savings are too low. Consider cutting expenses!\\n\")\n",
        "\n",
        "# Categorize Expenses\n",
        "try:\n",
        "    essentials = float(input(\"How much do you spend on Essentials? \"))\n",
        "    wants = float(input(\"How much do you spend on Wants? \"))\n",
        "    investments = float(input(\"How much do you save or invest? \"))\n",
        "except ValueError:\n",
        "    print(\"Invalid input! Please enter numerical values.\")\n",
        "    exit()\n",
        "\n",
        "total_spent = essentials + wants + investments\n",
        "essentials_percent = (essentials / income) * 100\n",
        "wants_percent = (wants / income) * 100\n",
        "investments_percent = (investments / income) * 100\n",
        "\n",
        "print(\"\\nExpense Breakdown:\")\n",
        "print(f\"Essentials: {essentials_percent:.2f}%\")\n",
        "print(f\"Wants: {wants_percent:.2f}%\")\n",
        "print(f\"Savings/Investments: {investments_percent:.2f}%\\n\")\n",
        "\n",
        "# Custom Goals\n",
        "try:\n",
        "    savings_goal = float(input(\"What is your savings goal (in %)? \"))\n",
        "except ValueError:\n",
        "    print(\"Invalid input! Please enter a numerical value.\")\n",
        "    exit()\n",
        "\n",
        "print(f\"\\nYour savings percentage is {savings_percentage:.2f}%.\")\n",
        "if savings_percentage >= savings_goal:\n",
        "    print(f\"Congratulations, {name}! You’ve achieved your savings goal.\\n\")\n",
        "else:\n",
        "    difference = savings_goal - savings_percentage\n",
        "    print(f\"Keep working on your savings, {name}. You're {difference:.2f}% away from your goal.\\n\")\n",
        "\n",
        "# Export Summary\n",
        "summary = (f\"Financial Health Summary for {name}:\\n\"\n",
        "           f\"Income: {income}\\nExpenses: {expenses}\\nSavings: {savings} ({savings_percentage:.2f}%)\\n\"\n",
        "           f\"Expense Breakdown:\\nEssentials: {essentials_percent:.2f}%\\nWants: {wants_percent:.2f}%\\n\"\n",
        "           f\"Savings/Investments: {investments_percent:.2f}%\\n\"\n",
        "           f\"Savings Goal: {savings_goal}%\\n\"\n",
        "           f\"Status: {difference:.2f}% away from your goal.\\n\")\n",
        "\n"
      ]
    }
  ]
}