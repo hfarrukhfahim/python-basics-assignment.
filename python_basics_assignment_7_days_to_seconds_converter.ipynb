{
  "nbformat": 4,
  "nbformat_minor": 0,
  "metadata": {
    "colab": {
      "provenance": [],
      "authorship_tag": "ABX9TyPBr67PttYDGX4zF2cL1NyC",
      "include_colab_link": true
    },
    "kernelspec": {
      "name": "python3",
      "display_name": "Python 3"
    },
    "language_info": {
      "name": "python"
    }
  },
  "cells": [
    {
      "cell_type": "markdown",
      "metadata": {
        "id": "view-in-github",
        "colab_type": "text"
      },
      "source": [
        "<a href=\"https://colab.research.google.com/github/hfarrukhfahim/python-basics-assignment./blob/main/python_basics_assignment_7_days_to_seconds_converter.ipynb\" target=\"_parent\"><img src=\"https://colab.research.google.com/assets/colab-badge.svg\" alt=\"Open In Colab\"/></a>"
      ]
    },
    {
      "cell_type": "code",
      "execution_count": null,
      "metadata": {
        "id": "j-CY2IkfQHQd"
      },
      "outputs": [],
      "source": [
        "# Part 7: Days to Seconds Converter\n",
        "# Problem Statement:\n",
        "# Write a program that:\n",
        "# 1. Takes the number of days as input.\n",
        "# 2. Converts the input into seconds using this formula:\n",
        "# Seconds=Days×24×60×60\n",
        "# Prints the result using string formatting:\n",
        "# [Days] days are equal to [Seconds] seconds."
      ]
    },
    {
      "cell_type": "code",
      "source": [
        "days = int(input(\"Enter the number of days: \"))\n",
        "\n",
        "seconds = days * 24 * 60 * 60\n",
        "\n",
        "print(f\"{days} days are equal to {seconds} seconds.\")"
      ],
      "metadata": {
        "colab": {
          "base_uri": "https://localhost:8080/"
        },
        "id": "ipZFkoReQXfP",
        "outputId": "e0b9f68f-08ee-4184-d98c-c6e6e267cd98"
      },
      "execution_count": null,
      "outputs": [
        {
          "output_type": "stream",
          "name": "stdout",
          "text": [
            "Enter the number of days: 456\n",
            "456 days are equal to 39398400 seconds.\n"
          ]
        }
      ]
    }
  ]
}