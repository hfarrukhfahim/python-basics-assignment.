{
  "nbformat": 4,
  "nbformat_minor": 0,
  "metadata": {
    "colab": {
      "provenance": [],
      "authorship_tag": "ABX9TyMMJSezbLFWtb/z47fKjNRY",
      "include_colab_link": true
    },
    "kernelspec": {
      "name": "python3",
      "display_name": "Python 3"
    },
    "language_info": {
      "name": "python"
    }
  },
  "cells": [
    {
      "cell_type": "markdown",
      "metadata": {
        "id": "view-in-github",
        "colab_type": "text"
      },
      "source": [
        "<a href=\"https://colab.research.google.com/github/hfarrukhfahim/python-basics-assignment./blob/main/python_basics_assignment_2_bill_splitter.ipynb\" target=\"_parent\"><img src=\"https://colab.research.google.com/assets/colab-badge.svg\" alt=\"Open In Colab\"/></a>"
      ]
    },
    {
      "cell_type": "code",
      "source": [
        "# Part 2: Bill Splitter\n",
        "# Problem Statement:\n",
        "# Write a program that calculates how much each person needs to pay when splitting a bill:\n",
        "# 1. Take the total bill amount as input.\n",
        "# 2. Take the number of people as input.\n",
        "# 3. Calculate each person’s share by dividing the total amount by the number of people.\n",
        "# Print the result in this format:\n",
        "# Total Bill: $[amount]\n",
        "# Number of People: [people]\n",
        "# Each Person Pays: $[share]\n"
      ],
      "metadata": {
        "id": "4HAdntHwLMIw"
      },
      "execution_count": null,
      "outputs": []
    },
    {
      "cell_type": "code",
      "source": [
        "total_bill = float(input(\"Enter the total bill amount in dollars: \"))\n",
        "number_of_people = int(input(\"Enter the number of people: \"))\n",
        "\n",
        "print(f\"Total Bill: ${total_bill:.2f}\")\n",
        "print(f\"Number of People: {number_of_people}\")\n",
        "print(f\"Each Person Pays: ${total_bill/number_of_people:.2f}\")\n"
      ],
      "metadata": {
        "colab": {
          "base_uri": "https://localhost:8080/"
        },
        "id": "lYjEJ1ySMH3l",
        "outputId": "bb7d7c51-840f-4191-9c19-fe8b570a3164"
      },
      "execution_count": null,
      "outputs": [
        {
          "output_type": "stream",
          "name": "stdout",
          "text": [
            "Enter the total bill amount in dollars: 45\n",
            "Enter the number of people: 4\n",
            "Total Bill: $45.00\n",
            "Number of People: 4\n",
            "Each Person Pays: $11.25\n"
          ]
        }
      ]
    }
  ]
}