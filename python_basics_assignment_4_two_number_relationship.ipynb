{
  "nbformat": 4,
  "nbformat_minor": 0,
  "metadata": {
    "colab": {
      "provenance": [],
      "authorship_tag": "ABX9TyOjndg5qiRTs4NFUpvPLmIA",
      "include_colab_link": true
    },
    "kernelspec": {
      "name": "python3",
      "display_name": "Python 3"
    },
    "language_info": {
      "name": "python"
    }
  },
  "cells": [
    {
      "cell_type": "markdown",
      "metadata": {
        "id": "view-in-github",
        "colab_type": "text"
      },
      "source": [
        "<a href=\"https://colab.research.google.com/github/hfarrukhfahim/python-basics-assignment./blob/main/python_basics_assignment_4_two_number_relationship.ipynb\" target=\"_parent\"><img src=\"https://colab.research.google.com/assets/colab-badge.svg\" alt=\"Open In Colab\"/></a>"
      ]
    },
    {
      "cell_type": "code",
      "execution_count": null,
      "metadata": {
        "id": "33bvKaLWN-IZ"
      },
      "outputs": [],
      "source": [
        "# Part 4: Two-Number Relationship\n",
        "# Problem Statement:\n",
        "# Write a program that:\n",
        "# 1. Takes two numbers as input.\n",
        "# 2. Checks and displays their relationship using these conditions:\n",
        "# ○ Whether the first number is greater than, less than, or equal to the second number.\n",
        "# ○ Whether both numbers are even or odd.\n",
        "\n",
        "# Print the results in this format:\n",
        "# Number 1: [num1]\n",
        "# Number 2: [num2]\n",
        "# Relationship: [Greater than/Less than/Equal]\n",
        "# Both numbers are [Even/Odd/Mixed]."
      ]
    },
    {
      "cell_type": "code",
      "source": [
        "num1 = int(input(\"Enter the first number: \"))\n",
        "num2 = int(input(\"Enter the second number: \"))\n",
        "\n",
        "if num1 > num2:\n",
        "    relationship = \"Greater than\"\n",
        "elif num1 < num2:\n",
        "    relationship = \"Less than\"\n",
        "else:\n",
        "    relationship = \"Equal\"\n",
        "\n",
        "if num1 % 2 == 0 and num2 % 2 == 0:\n",
        "    both_even_odd = \"Even\"\n",
        "elif num1 % 2 != 0 and num2 % 2 != 0:\n",
        "    both_even_odd = \"Odd\"\n",
        "else:\n",
        "    both_even_odd = \"Mixed\"\n",
        "\n",
        "print(f\"Number 1: {num1}\")\n",
        "print(f\"Number 2: {num2}\")\n",
        "print(f\"Relationship: {relationship}\")\n",
        "print(f\"Both numbers are {both_even_odd}.\")"
      ],
      "metadata": {
        "colab": {
          "base_uri": "https://localhost:8080/"
        },
        "id": "vqj4wdmnOCYf",
        "outputId": "a34d5d9f-6535-40cf-d46c-ef92e696b90c"
      },
      "execution_count": null,
      "outputs": [
        {
          "output_type": "stream",
          "name": "stdout",
          "text": [
            "Enter the first number: 9\n",
            "Enter the second number: 4\n",
            "Number 1: 9\n",
            "Number 2: 4\n",
            "Relationship: Greater than\n",
            "Both numbers are Mixed.\n"
          ]
        }
      ]
    }
  ]
}