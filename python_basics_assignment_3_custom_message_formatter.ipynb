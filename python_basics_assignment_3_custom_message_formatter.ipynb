{
  "nbformat": 4,
  "nbformat_minor": 0,
  "metadata": {
    "colab": {
      "provenance": [],
      "authorship_tag": "ABX9TyPp36erixC6KhnLiY98tdsF",
      "include_colab_link": true
    },
    "kernelspec": {
      "name": "python3",
      "display_name": "Python 3"
    },
    "language_info": {
      "name": "python"
    }
  },
  "cells": [
    {
      "cell_type": "markdown",
      "metadata": {
        "id": "view-in-github",
        "colab_type": "text"
      },
      "source": [
        "<a href=\"https://colab.research.google.com/github/hfarrukhfahim/python-basics-assignment./blob/main/python_basics_assignment_3_custom_message_formatter.ipynb\" target=\"_parent\"><img src=\"https://colab.research.google.com/assets/colab-badge.svg\" alt=\"Open In Colab\"/></a>"
      ]
    },
    {
      "cell_type": "code",
      "execution_count": null,
      "metadata": {
        "id": "C26ADBhVMt1Y"
      },
      "outputs": [],
      "source": [
        "# Part 3: Custom Message Formatter\n",
        "# Problem Statement:\n",
        "# Write a program that takes the following inputs:\n",
        "# ● A name\n",
        "# ● A favorite color\n",
        "# ● A favorite number\n",
        "# Use string formatting to display the result:\n",
        "\n",
        "# [Name] loves the color [Color] and their favorite number is [Number]."
      ]
    },
    {
      "cell_type": "code",
      "source": [
        "name = input(\"Enter your name: \")\n",
        "color = input(\"Enter your favorite color: \")\n",
        "number = input(\"Enter your favorite number: \")\n",
        "\n",
        "print(f\"{name} loves the color {color} and their favorite number is {number}.\")"
      ],
      "metadata": {
        "colab": {
          "base_uri": "https://localhost:8080/"
        },
        "id": "NrfMS5mvNm7C",
        "outputId": "e4d9e62e-2b69-4a8a-92f1-5f7af495e90c"
      },
      "execution_count": null,
      "outputs": [
        {
          "output_type": "stream",
          "name": "stdout",
          "text": [
            "Enter your name: Farrukh.\n",
            "Enter your favorite color: Blue\n",
            "Enter your favorite number: 9\n",
            "Farrukh. loves the color Blue and their favorite number is 9.\n"
          ]
        }
      ]
    }
  ]
}