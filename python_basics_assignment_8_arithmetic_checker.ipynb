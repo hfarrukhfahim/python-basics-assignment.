{
  "nbformat": 4,
  "nbformat_minor": 0,
  "metadata": {
    "colab": {
      "provenance": [],
      "authorship_tag": "ABX9TyNPPPWZ/ur4Ak1LYuKmUWvt",
      "include_colab_link": true
    },
    "kernelspec": {
      "name": "python3",
      "display_name": "Python 3"
    },
    "language_info": {
      "name": "python"
    }
  },
  "cells": [
    {
      "cell_type": "markdown",
      "metadata": {
        "id": "view-in-github",
        "colab_type": "text"
      },
      "source": [
        "<a href=\"https://colab.research.google.com/github/hfarrukhfahim/python-basics-assignment./blob/main/python_basics_assignment_8_arithmetic_checker.ipynb\" target=\"_parent\"><img src=\"https://colab.research.google.com/assets/colab-badge.svg\" alt=\"Open In Colab\"/></a>"
      ]
    },
    {
      "cell_type": "code",
      "execution_count": null,
      "metadata": {
        "id": "-yYhoJqHQo9j"
      },
      "outputs": [],
      "source": [
        "# Part 8: Arithmetic Checker\n",
        "# Problem Statement:\n",
        "# Write a program that:\n",
        "# 1. Takes two numbers as input.\n",
        "# 2. Prompts the user to input an arithmetic operator (+, -, *, /).\n",
        "# Performs the operation on the numbers and prints the result.\n",
        "# [Number1] [Operator] [Number2] = [Result]"
      ]
    },
    {
      "cell_type": "code",
      "source": [
        "num1 = float(input(\"Enter the first number: \"))\n",
        "num2 = float(input(\"Enter the second number: \"))\n",
        "operator = input(\"Enter the arithmetic operator (+, -, *, /): \")\n",
        "\n",
        "if operator == \"+\":\n",
        "    result = num1 + num2\n",
        "elif operator == \"-\":\n",
        "    result = num1 - num2\n",
        "elif operator == \"*\":\n",
        "    result = num1 * num2\n",
        "elif operator == \"/\":\n",
        "    if num2 != 0:\n",
        "        result = num1 / num2\n",
        "    else:\n",
        "        result = \"Error: Division by zero is not allowed.\"\n",
        "else:\n",
        "    result = \"Invalid operator\"\n",
        "\n",
        "print(f\"{num1} {operator} {num2} = {result}\")"
      ],
      "metadata": {
        "colab": {
          "base_uri": "https://localhost:8080/"
        },
        "id": "vp_6FjOAQquM",
        "outputId": "59296279-76b8-455f-a0df-029bc95370d5"
      },
      "execution_count": null,
      "outputs": [
        {
          "output_type": "stream",
          "name": "stdout",
          "text": [
            "Enter the first number: 9\n",
            "Enter the second number: 4\n",
            "Enter the arithmetic operator (+, -, *, /): /\n",
            "9.0 / 4.0 = 2.25\n"
          ]
        }
      ]
    }
  ]
}